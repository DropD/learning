{
 "cells": [
  {
   "cell_type": "code",
   "execution_count": 207,
   "id": "964cdb6e-6e5f-438a-b661-ba26d584dc42",
   "metadata": {},
   "outputs": [],
   "source": [
    "import dataclasses\n",
    "import types\n",
    "import fractions"
   ]
  },
  {
   "cell_type": "code",
   "execution_count": 255,
   "id": "c66a86cd",
   "metadata": {},
   "outputs": [],
   "source": [
    "def make_fluid_setter(attr_name):\n",
    "    def fluid_setter(self, value):\n",
    "        getattr(self, f\"validate_{attr_name}_change\", lambda: None)()\n",
    "        return self.__class__(**(self.as_dict() | {attr_name: value}))\n",
    "    return fluid_setter\n",
    "\n",
    "\n",
    "class Missing:\n",
    "    pass\n",
    "\n",
    "\n",
    "class FluidMeta(type):\n",
    "    @classmethod\n",
    "    def __new__(cls, meta, name, bases, namespace):\n",
    "        buildee = namespace[\"__annotations__\"][\"buildee\"]\n",
    "        builder_attrs = {}\n",
    "        if dataclasses.is_dataclass(buildee):\n",
    "            fields = dataclasses.fields(buildee)\n",
    "            builder_attrs |= {field.name: field.default for field in fields}\n",
    "        builder_attrs |= {attr: value for attr, value in namespace.items() if not attr.startswith(\"_\") and not isinstance(value, types.FunctionType)}\n",
    "        namespace[\"__builder_attrs\"] = list(builder_attrs.keys())\n",
    "        \n",
    "        def as_dict(self):\n",
    "            return {attr: getattr(self, f\"__{attr}\") for attr in getattr(self, \"__builder_attrs\")}\n",
    "        namespace[\"as_dict\"] = as_dict\n",
    "\n",
    "        def init(self, **kwargs):\n",
    "            for attr, value in kwargs.items():\n",
    "                setattr(self, f\"__{attr}\", value)\n",
    "        namespace[\"__init__\"] = init\n",
    "            \n",
    "        for attr, default_value in builder_attrs.items():\n",
    "            private_name = f\"__{attr}\"\n",
    "            namespace[private_name] = default_value\n",
    "            namespace[attr] = make_fluid_setter(attr)\n",
    "\n",
    "        def build(self):\n",
    "            getattr(self, \"validate\", lambda: None)()\n",
    "            data = {k: v for k, v in self.as_dict().items() if not isinstance(v, dataclasses._MISSING_TYPE)}\n",
    "            return buildee(**data)\n",
    "        namespace[\"build\"] = build\n",
    "            \n",
    "        return super().__new__(meta, name, bases, namespace)"
   ]
  },
  {
   "cell_type": "code",
   "execution_count": 270,
   "id": "dad4121e-fad0-42b5-873e-41549f79a1fc",
   "metadata": {},
   "outputs": [],
   "source": [
    "@dataclasses.dataclass(frozen=True)\n",
    "class Rectangle:\n",
    "    height: int\n",
    "    width: int\n",
    "    color: str = \"no_color\"\n",
    "    border_color: str = \"black\"\n",
    "\n",
    "\n",
    "class FluidRectangleBuilder(metaclass=FluidMeta):\n",
    "    buildee: Rectangle\n",
    "    height: int = 1\n",
    "    width: int = 1\n",
    "    \n",
    "\n",
    "class ThreeFourthsBuilder(metaclass=FluidMeta):\n",
    "    buildee: Rectangle\n",
    "    height: int = 1\n",
    "    width: int = 1\n",
    "    border_color: str = \"blue\"\n",
    "\n",
    "    def validate(self) -> None:\n",
    "        data = self.as_dict()\n",
    "        if (ratio := fractions.Fraction(data[\"height\"], data[\"width\"])) != fractions.Fraction(3, 4):\n",
    "            raise ValueError(f\"ThreeFourthsRectangle can not be built with width / height ratio of {ratio}.\")"
   ]
  },
  {
   "cell_type": "code",
   "execution_count": 271,
   "id": "90ba794f-ba76-4a39-8570-d1f6cc59129b",
   "metadata": {},
   "outputs": [],
   "source": [
    "f = FluidRectangleBuilder()"
   ]
  },
  {
   "cell_type": "code",
   "execution_count": 272,
   "id": "1387837a-b041-480c-bbf7-bba1b5291fd3",
   "metadata": {},
   "outputs": [
    {
     "data": {
      "text/plain": [
       "Rectangle(height=3, width=1, color='white', border_color='blue')"
      ]
     },
     "execution_count": 272,
     "metadata": {},
     "output_type": "execute_result"
    }
   ],
   "source": [
    "f.border_color(\"blue\").color(\"white\").height(3).build()"
   ]
  },
  {
   "cell_type": "code",
   "execution_count": 275,
   "id": "ae66e9e3-9bf6-4a5d-bee8-0290e63a41ef",
   "metadata": {},
   "outputs": [
    {
     "ename": "ValueError",
     "evalue": "ThreeFourthsRectangle can not be built with width / height ratio of 9/16.",
     "output_type": "error",
     "traceback": [
      "\u001b[0;31m---------------------------------------------------------------------------\u001b[0m",
      "\u001b[0;31mValueError\u001b[0m                                Traceback (most recent call last)",
      "Cell \u001b[0;32mIn[275], line 1\u001b[0m\n\u001b[0;32m----> 1\u001b[0m \u001b[43mThreeFourthsBuilder\u001b[49m\u001b[43m(\u001b[49m\u001b[43mheight\u001b[49m\u001b[38;5;241;43m=\u001b[39;49m\u001b[38;5;241;43m9\u001b[39;49m\u001b[43m,\u001b[49m\u001b[43m \u001b[49m\u001b[43mwidth\u001b[49m\u001b[38;5;241;43m=\u001b[39;49m\u001b[38;5;241;43m16\u001b[39;49m\u001b[43m)\u001b[49m\u001b[38;5;241;43m.\u001b[39;49m\u001b[43mbuild\u001b[49m\u001b[43m(\u001b[49m\u001b[43m)\u001b[49m\n",
      "Cell \u001b[0;32mIn[255], line 37\u001b[0m, in \u001b[0;36mFluidMeta.__new__.<locals>.build\u001b[0;34m(self)\u001b[0m\n\u001b[1;32m     36\u001b[0m \u001b[38;5;28;01mdef\u001b[39;00m \u001b[38;5;21mbuild\u001b[39m(\u001b[38;5;28mself\u001b[39m):\n\u001b[0;32m---> 37\u001b[0m     \u001b[38;5;28;43mgetattr\u001b[39;49m\u001b[43m(\u001b[49m\u001b[38;5;28;43mself\u001b[39;49m\u001b[43m,\u001b[49m\u001b[43m \u001b[49m\u001b[38;5;124;43m\"\u001b[39;49m\u001b[38;5;124;43mvalidate\u001b[39;49m\u001b[38;5;124;43m\"\u001b[39;49m\u001b[43m,\u001b[49m\u001b[43m \u001b[49m\u001b[38;5;28;43;01mlambda\u001b[39;49;00m\u001b[43m:\u001b[49m\u001b[43m \u001b[49m\u001b[38;5;28;43;01mNone\u001b[39;49;00m\u001b[43m)\u001b[49m\u001b[43m(\u001b[49m\u001b[43m)\u001b[49m\n\u001b[1;32m     38\u001b[0m     data \u001b[38;5;241m=\u001b[39m {k: v \u001b[38;5;28;01mfor\u001b[39;00m k, v \u001b[38;5;129;01min\u001b[39;00m \u001b[38;5;28mself\u001b[39m\u001b[38;5;241m.\u001b[39mas_dict()\u001b[38;5;241m.\u001b[39mitems() \u001b[38;5;28;01mif\u001b[39;00m \u001b[38;5;129;01mnot\u001b[39;00m \u001b[38;5;28misinstance\u001b[39m(v, dataclasses\u001b[38;5;241m.\u001b[39m_MISSING_TYPE)}\n\u001b[1;32m     39\u001b[0m     \u001b[38;5;28;01mreturn\u001b[39;00m buildee(\u001b[38;5;241m*\u001b[39m\u001b[38;5;241m*\u001b[39mdata)\n",
      "Cell \u001b[0;32mIn[270], line 23\u001b[0m, in \u001b[0;36mThreeFourthsBuilder.validate\u001b[0;34m(self)\u001b[0m\n\u001b[1;32m     21\u001b[0m data \u001b[38;5;241m=\u001b[39m \u001b[38;5;28mself\u001b[39m\u001b[38;5;241m.\u001b[39mas_dict()\n\u001b[1;32m     22\u001b[0m \u001b[38;5;28;01mif\u001b[39;00m (ratio \u001b[38;5;241m:=\u001b[39m fractions\u001b[38;5;241m.\u001b[39mFraction(data[\u001b[38;5;124m\"\u001b[39m\u001b[38;5;124mheight\u001b[39m\u001b[38;5;124m\"\u001b[39m], data[\u001b[38;5;124m\"\u001b[39m\u001b[38;5;124mwidth\u001b[39m\u001b[38;5;124m\"\u001b[39m])) \u001b[38;5;241m!=\u001b[39m fractions\u001b[38;5;241m.\u001b[39mFraction(\u001b[38;5;241m3\u001b[39m, \u001b[38;5;241m4\u001b[39m):\n\u001b[0;32m---> 23\u001b[0m     \u001b[38;5;28;01mraise\u001b[39;00m \u001b[38;5;167;01mValueError\u001b[39;00m(\u001b[38;5;124mf\u001b[39m\u001b[38;5;124m\"\u001b[39m\u001b[38;5;124mThreeFourthsRectangle can not be built with width / height ratio of \u001b[39m\u001b[38;5;132;01m{\u001b[39;00mratio\u001b[38;5;132;01m}\u001b[39;00m\u001b[38;5;124m.\u001b[39m\u001b[38;5;124m\"\u001b[39m)\n",
      "\u001b[0;31mValueError\u001b[0m: ThreeFourthsRectangle can not be built with width / height ratio of 9/16."
     ]
    }
   ],
   "source": [
    "ThreeFourthsBuilder(height=9, width=16).build()"
   ]
  },
  {
   "cell_type": "code",
   "execution_count": 276,
   "id": "93f9ad3e-b3a0-4e78-946c-81f2cb3305af",
   "metadata": {},
   "outputs": [
    {
     "data": {
      "text/plain": [
       "Rectangle(height=6, width=8, color='no_color', border_color='blue')"
      ]
     },
     "execution_count": 276,
     "metadata": {},
     "output_type": "execute_result"
    }
   ],
   "source": [
    "ThreeFourthsBuilder(height=6, width=8).build()"
   ]
  },
  {
   "cell_type": "code",
   "execution_count": 302,
   "id": "662f2760-b42a-4332-aded-c2baa75fed22",
   "metadata": {},
   "outputs": [],
   "source": [
    "import textwrap\n",
    "\n",
    "\n",
    "def ask_chat_gpt(name: str, description: str) -> str:\n",
    "    ## TODO: send a https request to ChatGPT asking something like\n",
    "    ## \"Please implement a class with name <name> in Python, which behaves as described\n",
    "    ## in the following docstring: <description>\"\n",
    "    ## \n",
    "    ## for now just return a placeholder\n",
    "    return textwrap.dedent(f'''\n",
    "    class {name}:\n",
    "        \"\"\"{description}\"\"\"\n",
    "\n",
    "        def __call__(self) -> str:\n",
    "            return \"Sorry, I was too lazy to actually ask ChatGPT.\"\n",
    "    ''')\n",
    "\n",
    "\n",
    "class GptMeta(type):\n",
    "    @classmethod\n",
    "    def __new__(cls, meta, name, bases, namespace):\n",
    "        code = ask_chat_gpt(name=name, description=namespace[\"__doc__\"])\n",
    "        exec(code)\n",
    "        return locals()[name]\n",
    "\n",
    "\n",
    "class SomeClass(metaclass=GptMeta):\n",
    "    \"\"\"Describe here how the class should behave.\"\"\""
   ]
  },
  {
   "cell_type": "code",
   "execution_count": 305,
   "id": "0b5fec32-cca2-478d-89dc-49e192bdb0e0",
   "metadata": {},
   "outputs": [
    {
     "data": {
      "text/plain": [
       "'Sorry, I was too lazy to actually ask ChatGPT.'"
      ]
     },
     "execution_count": 305,
     "metadata": {},
     "output_type": "execute_result"
    }
   ],
   "source": [
    "SomeClass()()"
   ]
  },
  {
   "cell_type": "code",
   "execution_count": 379,
   "id": "652951fc-e77d-46de-ab9b-7aee472d7c13",
   "metadata": {},
   "outputs": [],
   "source": [
    "from __future__ import annotations\n",
    "\n",
    "\n",
    "@dataclasses.dataclass\n",
    "class FloatScalar:\n",
    "    unit: Unit\n",
    "    value: float\n",
    "\n",
    "    def __sub__(self, other: FloatScalar) -> FloatScalar:\n",
    "        if other.unit != self.unit:\n",
    "            raise ValueError(\"Units do not match.\")\n",
    "        return FloatScalar(unit=self.unit, value=self.value - other.value)\n",
    "\n",
    "\n",
    "@dataclasses.dataclass\n",
    "class Unit:\n",
    "    name: str\n",
    "    \n",
    "    def __rmul__(self, value: float) -> FloatScalar:\n",
    "        return FloatScalar(unit=self, value=value)\n",
    "\n",
    "\n",
    "UNIT_Da = UNIT_u = Unit(\"Dalton\")\n",
    "\n",
    "\n",
    "class He:\n",
    "    __mass: static[const[[float]]] = 4.0026 * UNIT_u\n",
    "\n",
    "    @property\n",
    "    def mass(self):\n",
    "        return self.__class__.__mass\n",
    "\n",
    "    \n",
    "    # def __setitem__(self, name, value):\n",
    "    #     if \"__mass\" in name:\n",
    "    #         raise NotImplemented(\"Can not change the mass this way\")\n",
    "    \n",
    "\n",
    "particles = [He(), He(), He()]\n",
    "\n",
    "#}particles[0].mass = 4 * UNIT_u\n",
    "\n",
    "assert numpy.allclose(numpy.array([(p.mass - 4.0026 * UNIT_u).value for p in particles]), 0)"
   ]
  },
  {
   "cell_type": "code",
   "execution_count": 380,
   "id": "2df9135f-be14-48ef-986b-3050ee908146",
   "metadata": {},
   "outputs": [
    {
     "data": {
      "text/plain": [
       "FloatScalar(unit=Unit(name='Dalton'), value=4.0026)"
      ]
     },
     "execution_count": 380,
     "metadata": {},
     "output_type": "execute_result"
    }
   ],
   "source": [
    "particles[0].mass"
   ]
  },
  {
   "cell_type": "code",
   "execution_count": 381,
   "id": "f7bd3a75-ad52-4727-a163-06500f1a7205",
   "metadata": {},
   "outputs": [],
   "source": [
    "def mass_changer(cls, value):\n",
    "    keys = cls.__dict__\n",
    "    mass_key = [k for k in keys if \"__mass\" in k][0]\n",
    "    setattr(cls, mass_key, value)\n",
    "\n",
    "He.change_mass = classmethod(mass_changer)"
   ]
  },
  {
   "cell_type": "code",
   "execution_count": 382,
   "id": "274d4246-79bb-4f45-8d0b-65299af1ea93",
   "metadata": {},
   "outputs": [],
   "source": [
    "He.change_mass(5 * UNIT_u)"
   ]
  },
  {
   "cell_type": "code",
   "execution_count": 383,
   "id": "f9e84e33-d5c0-4b1f-9d4f-c054a42c0a4c",
   "metadata": {},
   "outputs": [
    {
     "data": {
      "text/plain": [
       "FloatScalar(unit=Unit(name='Dalton'), value=5)"
      ]
     },
     "execution_count": 383,
     "metadata": {},
     "output_type": "execute_result"
    }
   ],
   "source": [
    "particles[0].mass"
   ]
  },
  {
   "cell_type": "code",
   "execution_count": 384,
   "id": "2a7144a5-a5a0-4ec9-9ee1-22593e70f062",
   "metadata": {},
   "outputs": [
    {
     "data": {
      "text/plain": [
       "FloatScalar(unit=Unit(name='Dalton'), value=5)"
      ]
     },
     "execution_count": 384,
     "metadata": {},
     "output_type": "execute_result"
    }
   ],
   "source": [
    "He().mass"
   ]
  },
  {
   "cell_type": "code",
   "execution_count": 385,
   "id": "cb916e19-ce3d-4ac8-81fb-cfe00c06a82b",
   "metadata": {},
   "outputs": [
    {
     "data": {
      "text/plain": [
       "mappingproxy({'__module__': '__main__',\n",
       "              '__annotations__': {'_He__mass': 'static[const[[float]]]'},\n",
       "              '_He__mass': FloatScalar(unit=Unit(name='Dalton'), value=5),\n",
       "              'mass': <property at 0x1190457b0>,\n",
       "              '__dict__': <attribute '__dict__' of 'He' objects>,\n",
       "              '__weakref__': <attribute '__weakref__' of 'He' objects>,\n",
       "              '__doc__': None,\n",
       "              'change_mass': <classmethod(<function mass_changer at 0x10f21efc0>)>})"
      ]
     },
     "execution_count": 385,
     "metadata": {},
     "output_type": "execute_result"
    }
   ],
   "source": [
    "He.__dict__"
   ]
  },
  {
   "cell_type": "code",
   "execution_count": null,
   "id": "db3022d5-dffc-4e38-9132-34d2a0299c2d",
   "metadata": {},
   "outputs": [],
   "source": []
  }
 ],
 "metadata": {
  "jupytext": {
   "formats": "ipynb,md"
  },
  "kernelspec": {
   "display_name": "Python 3 (ipykernel)",
   "language": "python",
   "name": "python3"
  },
  "language_info": {
   "codemirror_mode": {
    "name": "ipython",
    "version": 3
   },
   "file_extension": ".py",
   "mimetype": "text/x-python",
   "name": "python",
   "nbconvert_exporter": "python",
   "pygments_lexer": "ipython3",
   "version": "3.11.8"
  }
 },
 "nbformat": 4,
 "nbformat_minor": 5
}
